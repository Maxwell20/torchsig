{
 "cells": [
  {
   "cell_type": "markdown",
   "id": "e217c4f2-4817-4ddf-a3c3-559ff22f632a",
   "metadata": {},
   "source": [
    "# Example 10 - Using the YOLO Annotation Tool\n",
    "This notebook showcases the YOLO annotation tool to draw boxes around Signals of Interest (SOIs) to create a image dataset compatible with YOLO.\n",
    "\n",
    "---"
   ]
  },
  {
   "cell_type": "markdown",
   "id": "53160dd6",
   "metadata": {},
   "source": [
    "## Import Libraries"
   ]
  },
  {
   "cell_type": "code",
   "execution_count": 1,
   "id": "db8cb1a0-987c-448c-bbb3-2f7d3d908860",
   "metadata": {},
   "outputs": [],
   "source": [
    "from torchsig.image_datasets.annotation_tools.yolo_annotation_tool import yolo_annotator\n",
    "from torchsig.image_datasets.datasets.yolo_datasets import YOLOFileDataset\n",
    "from torchsig.image_datasets.plotting.plotting import plot_yolo_datum\n",
    "import os"
   ]
  },
  {
   "cell_type": "markdown",
   "id": "35b25503",
   "metadata": {},
   "source": [
    "## Set Directory Paths\n",
    "`unlabeled_image_dir/` is where the unlabelled spectrogram images are stored. After annotation, the annotated images with be written to `new_yolo_dataset_dir/`."
   ]
  },
  {
   "cell_type": "code",
   "execution_count": 2,
   "id": "8a1d6ec5-31b0-4739-90ca-bcec3b5258c6",
   "metadata": {},
   "outputs": [],
   "source": [
    "unlabeled_image_dir = \"./datasets/10_example_data/sample_images/\" # directory of images to be annotated\n",
    "new_yolo_dataset_dir = \"./datasets/10_example_data/annotated_yolo_sample_images/\" # directory to save annotated yolo data; be sure to end with a '/'"
   ]
  },
  {
   "cell_type": "markdown",
   "id": "123b9d5b",
   "metadata": {},
   "source": [
    "## Create the YOLO Annotator and Label Signals\n",
    "Run the below command, and manually label the SOIs by drawing bounding boxes. Select which signal class you are annotating at the bottom, and hit `Submit` when done annotating the image."
   ]
  },
  {
   "cell_type": "code",
   "execution_count": 3,
   "id": "6f2ae761-b7f8-4f46-88c1-fb0c23c027cb",
   "metadata": {},
   "outputs": [
    {
     "ename": "IndexError",
     "evalue": "list index out of range",
     "output_type": "error",
     "traceback": [
      "\u001b[0;31m---------------------------------------------------------------------------\u001b[0m",
      "\u001b[0;31mIndexError\u001b[0m                                Traceback (most recent call last)",
      "Cell \u001b[0;32mIn[3], line 1\u001b[0m\n\u001b[0;32m----> 1\u001b[0m \u001b[43myolo_annotator\u001b[49m\u001b[43m(\u001b[49m\u001b[43munlabeled_image_dir\u001b[49m\u001b[43m,\u001b[49m\u001b[43mnew_yolo_dataset_dir\u001b[49m\u001b[43m,\u001b[49m\u001b[43m \u001b[49m\u001b[43mclass_names\u001b[49m\u001b[38;5;241;43m=\u001b[39;49m\u001b[43m[\u001b[49m\u001b[38;5;124;43m'\u001b[39;49m\u001b[38;5;124;43msignal_type_A\u001b[39;49m\u001b[38;5;124;43m'\u001b[39;49m\u001b[43m,\u001b[49m\u001b[43m \u001b[49m\u001b[38;5;124;43m'\u001b[39;49m\u001b[38;5;124;43msignal_type_B\u001b[39;49m\u001b[38;5;124;43m'\u001b[39;49m\u001b[43m,\u001b[49m\u001b[43m \u001b[49m\u001b[38;5;124;43m'\u001b[39;49m\u001b[38;5;124;43msignal_type_C\u001b[39;49m\u001b[38;5;124;43m'\u001b[39;49m\u001b[43m]\u001b[49m\u001b[43m)\u001b[49m\n",
      "File \u001b[0;32m~/.local/lib/python3.10/site-packages/torchsig/image_datasets/annotation_tools/yolo_annotation_tool.py:61\u001b[0m, in \u001b[0;36myolo_annotator\u001b[0;34m(input_image_dir, output_root_path, class_names)\u001b[0m\n\u001b[1;32m     59\u001b[0m annotated_fnames \u001b[38;5;241m=\u001b[39m os\u001b[38;5;241m.\u001b[39mlistdir(output_root_path \u001b[38;5;241m+\u001b[39m \u001b[38;5;124m\"\u001b[39m\u001b[38;5;124mimages/\u001b[39m\u001b[38;5;124m\"\u001b[39m) \u001b[38;5;66;03m# used to make sure we don't annotate already annotated images\u001b[39;00m\n\u001b[1;32m     60\u001b[0m fname_ind \u001b[38;5;241m=\u001b[39m \u001b[38;5;241m0\u001b[39m\n\u001b[0;32m---> 61\u001b[0m fname \u001b[38;5;241m=\u001b[39m \u001b[43mfnames\u001b[49m\u001b[43m[\u001b[49m\u001b[43mfname_ind\u001b[49m\u001b[43m]\u001b[49m\n\u001b[1;32m     62\u001b[0m \u001b[38;5;28;01mwhile\u001b[39;00m fname \u001b[38;5;129;01min\u001b[39;00m annotated_fnames:\n\u001b[1;32m     63\u001b[0m     fname_ind \u001b[38;5;241m+\u001b[39m\u001b[38;5;241m=\u001b[39m \u001b[38;5;241m1\u001b[39m\n",
      "\u001b[0;31mIndexError\u001b[0m: list index out of range"
     ]
    }
   ],
   "source": [
    "yolo_annotator(unlabeled_image_dir,new_yolo_dataset_dir, class_names=['signal_type_A', 'signal_type_B', 'signal_type_C'])"
   ]
  },
  {
   "cell_type": "markdown",
   "id": "0cb224b3-45e3-4537-a248-43c5964441b6",
   "metadata": {},
   "source": [
    "## Plotting the Resulting Dataset"
   ]
  },
  {
   "cell_type": "code",
   "execution_count": null,
   "id": "a3dcf767-0ffc-407a-bff2-a48e605f45c7",
   "metadata": {},
   "outputs": [],
   "source": [
    "yds = YOLOFileDataset(new_yolo_dataset_dir)"
   ]
  },
  {
   "cell_type": "code",
   "execution_count": null,
   "id": "fb54d59b-6358-4393-b15c-057810add6d7",
   "metadata": {},
   "outputs": [],
   "source": [
    "plot_yolo_datum(yds.next())"
   ]
  },
  {
   "cell_type": "code",
   "execution_count": null,
   "id": "e353115c",
   "metadata": {},
   "outputs": [],
   "source": []
  }
 ],
 "metadata": {
  "kernelspec": {
   "display_name": "Python 3",
   "language": "python",
   "name": "python3"
  },
  "language_info": {
   "codemirror_mode": {
    "name": "ipython",
    "version": 3
   },
   "file_extension": ".py",
   "mimetype": "text/x-python",
   "name": "python",
   "nbconvert_exporter": "python",
   "pygments_lexer": "ipython3",
   "version": "3.10.12"
  }
 },
 "nbformat": 4,
 "nbformat_minor": 5
}
